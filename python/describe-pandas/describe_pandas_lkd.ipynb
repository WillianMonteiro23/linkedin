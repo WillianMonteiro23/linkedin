{
 "cells": [
  {
   "cell_type": "markdown",
   "id": "d2391f3a-50b9-4c11-b979-a35cdd5dba31",
   "metadata": {},
   "source": [
    "# Avaliação de Desempenho de Funcionários"
   ]
  },
  {
   "cell_type": "markdown",
   "id": "461c4038-e570-4fe5-b02a-8d200f935185",
   "metadata": {},
   "source": [
    " Você é responsável pelo RH de uma empresa e está analisando os dados de desempenho dos colaboradores, medidos em uma escala de 0 a 100. Você quer entender como está a distribuição geral para tomar decisões mais justas e identificar padrões de alta ou baixa performance."
   ]
  },
  {
   "cell_type": "code",
   "execution_count": 1,
   "id": "fe3af282-b5a7-47b0-82a5-6910409c712a",
   "metadata": {},
   "outputs": [],
   "source": [
    "import pandas as pd"
   ]
  },
  {
   "cell_type": "code",
   "execution_count": 2,
   "id": "08e7fcef-1e22-4af8-8b61-9cacbc64a2e1",
   "metadata": {},
   "outputs": [],
   "source": [
    "df_desempenho_funcionarios = pd.read_csv('desempenho_funcionarios.csv')"
   ]
  },
  {
   "cell_type": "code",
   "execution_count": 3,
   "id": "3419d544-c304-4a2b-ada8-29a953235870",
   "metadata": {},
   "outputs": [
    {
     "data": {
      "text/html": [
       "<div>\n",
       "<style scoped>\n",
       "    .dataframe tbody tr th:only-of-type {\n",
       "        vertical-align: middle;\n",
       "    }\n",
       "\n",
       "    .dataframe tbody tr th {\n",
       "        vertical-align: top;\n",
       "    }\n",
       "\n",
       "    .dataframe thead th {\n",
       "        text-align: right;\n",
       "    }\n",
       "</style>\n",
       "<table border=\"1\" class=\"dataframe\">\n",
       "  <thead>\n",
       "    <tr style=\"text-align: right;\">\n",
       "      <th></th>\n",
       "      <th>id</th>\n",
       "      <th>idade</th>\n",
       "      <th>desempenho</th>\n",
       "    </tr>\n",
       "  </thead>\n",
       "  <tbody>\n",
       "    <tr>\n",
       "      <th>count</th>\n",
       "      <td>50.00000</td>\n",
       "      <td>50.000000</td>\n",
       "      <td>50.00000</td>\n",
       "    </tr>\n",
       "    <tr>\n",
       "      <th>mean</th>\n",
       "      <td>25.50000</td>\n",
       "      <td>33.000000</td>\n",
       "      <td>79.06000</td>\n",
       "    </tr>\n",
       "    <tr>\n",
       "      <th>std</th>\n",
       "      <td>14.57738</td>\n",
       "      <td>7.626484</td>\n",
       "      <td>14.98218</td>\n",
       "    </tr>\n",
       "    <tr>\n",
       "      <th>min</th>\n",
       "      <td>1.00000</td>\n",
       "      <td>22.000000</td>\n",
       "      <td>50.00000</td>\n",
       "    </tr>\n",
       "    <tr>\n",
       "      <th>25%</th>\n",
       "      <td>13.25000</td>\n",
       "      <td>27.000000</td>\n",
       "      <td>67.25000</td>\n",
       "    </tr>\n",
       "    <tr>\n",
       "      <th>50%</th>\n",
       "      <td>25.50000</td>\n",
       "      <td>32.000000</td>\n",
       "      <td>82.00000</td>\n",
       "    </tr>\n",
       "    <tr>\n",
       "      <th>75%</th>\n",
       "      <td>37.75000</td>\n",
       "      <td>40.000000</td>\n",
       "      <td>91.75000</td>\n",
       "    </tr>\n",
       "    <tr>\n",
       "      <th>max</th>\n",
       "      <td>50.00000</td>\n",
       "      <td>45.000000</td>\n",
       "      <td>100.00000</td>\n",
       "    </tr>\n",
       "  </tbody>\n",
       "</table>\n",
       "</div>"
      ],
      "text/plain": [
       "             id      idade  desempenho\n",
       "count  50.00000  50.000000    50.00000\n",
       "mean   25.50000  33.000000    79.06000\n",
       "std    14.57738   7.626484    14.98218\n",
       "min     1.00000  22.000000    50.00000\n",
       "25%    13.25000  27.000000    67.25000\n",
       "50%    25.50000  32.000000    82.00000\n",
       "75%    37.75000  40.000000    91.75000\n",
       "max    50.00000  45.000000   100.00000"
      ]
     },
     "execution_count": 3,
     "metadata": {},
     "output_type": "execute_result"
    }
   ],
   "source": [
    "df_desempenho_funcionarios.describe()"
   ]
  }
 ],
 "metadata": {
  "kernelspec": {
   "display_name": "base",
   "language": "python",
   "name": "python3"
  },
  "language_info": {
   "codemirror_mode": {
    "name": "ipython",
    "version": 3
   },
   "file_extension": ".py",
   "mimetype": "text/x-python",
   "name": "python",
   "nbconvert_exporter": "python",
   "pygments_lexer": "ipython3",
   "version": "3.12.7"
  }
 },
 "nbformat": 4,
 "nbformat_minor": 5
}
